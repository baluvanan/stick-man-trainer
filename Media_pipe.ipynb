{
 "cells": [
  {
   "cell_type": "code",
   "execution_count": 1,
   "id": "68658523",
   "metadata": {},
   "outputs": [
    {
     "name": "stdout",
     "output_type": "stream",
     "text": [
      "Requirement already satisfied: mediapipe in c:\\users\\bala\\anaconda3\\envs\\stick-man-trainer\\lib\\site-packages (0.8.3)\n",
      "Requirement already satisfied: opencv-python in c:\\users\\bala\\anaconda3\\envs\\stick-man-trainer\\lib\\site-packages (4.5.3.56)\n",
      "Requirement already satisfied: absl-py in c:\\users\\bala\\anaconda3\\envs\\stick-man-trainer\\lib\\site-packages (from mediapipe) (0.14.0)\n",
      "Requirement already satisfied: protobuf>=3.11.4 in c:\\users\\bala\\anaconda3\\envs\\stick-man-trainer\\lib\\site-packages (from mediapipe) (3.18.0)\n",
      "Requirement already satisfied: dataclasses in c:\\users\\bala\\anaconda3\\envs\\stick-man-trainer\\lib\\site-packages (from mediapipe) (0.8)\n",
      "Requirement already satisfied: numpy==1.19.3 in c:\\users\\bala\\anaconda3\\envs\\stick-man-trainer\\lib\\site-packages (from mediapipe) (1.19.3)\n",
      "Requirement already satisfied: wheel in c:\\users\\bala\\anaconda3\\envs\\stick-man-trainer\\lib\\site-packages (from mediapipe) (0.37.0)\n",
      "Requirement already satisfied: six in c:\\users\\bala\\anaconda3\\envs\\stick-man-trainer\\lib\\site-packages (from mediapipe) (1.16.0)\n",
      "Requirement already satisfied: attrs in c:\\users\\bala\\anaconda3\\envs\\stick-man-trainer\\lib\\site-packages (from mediapipe) (21.2.0)\n"
     ]
    }
   ],
   "source": [
    "!pip install mediapipe opencv-python"
   ]
  },
  {
   "cell_type": "code",
   "execution_count": 14,
   "id": "c83717ce",
   "metadata": {},
   "outputs": [],
   "source": [
    "import cv2\n",
    "import mediapipe as mp\n",
    "import numpy as np\n",
    "mp_drawing = mp.solutions.drawing_utils\n",
    "mp_pose = mp.solutions.pose"
   ]
  },
  {
   "cell_type": "code",
   "execution_count": 20,
   "id": "303e9c01",
   "metadata": {},
   "outputs": [],
   "source": [
    "# Video Feed\n",
    "cap = cv2.VideoCapture(1)\n",
    "with mp_pose.Pose(min_detection_confidence=0.5, min_tracking_confidence=0.5) as pose:\n",
    "    while cap.isOpened():\n",
    "        ret, frame = cap.read()\n",
    "        # Recolor image\n",
    "        image = cv2.cvtColor(frame,cv2.COLOR_BGR2RGB)\n",
    "        image.flags.writeable = False\n",
    "        #make detection\n",
    "        results = pose.process(image)\n",
    "        # Back to BGR\n",
    "        image.flags.writeable = True\n",
    "        image = cv2.cvtColor(image,cv2.COLOR_RGB2BGR)\n",
    "\n",
    "        #Render Detections\n",
    "        mp_drawing.draw_landmarks(image,results.pose_landmarks,mp_pose.POSE_CONNECTIONS)      \n",
    "        #mp_drawing.draw_landmarks(image,results.pose_landmarks,mp_pose.POSE_CONNECTIONS,\n",
    "         #                         mp_drawing.DrawingSpec(color=(240,0,0),thickness=5, circle_radius=5)\n",
    "          #                        mp_drawing.DrawingSpec(color=(240,117,230),thickness=5, circle_radius=3))\n",
    "\n",
    "        cv2.imshow('Feed',image)\n",
    "        if cv2.waitKey(10) & 0xFF == ord('q'):\n",
    "            break\n",
    "    cap.release()\n",
    "    cv2.destroyAllWindows()\n"
   ]
  },
  {
   "cell_type": "code",
   "execution_count": 23,
   "id": "5a6ddb9d",
   "metadata": {},
   "outputs": [
    {
     "name": "stdout",
     "output_type": "stream",
     "text": [
      "PoseLandmark.NOSE\n",
      "PoseLandmark.LEFT_EYE_INNER\n",
      "PoseLandmark.LEFT_EYE\n",
      "PoseLandmark.LEFT_EYE_OUTER\n",
      "PoseLandmark.RIGHT_EYE_INNER\n",
      "PoseLandmark.RIGHT_EYE\n",
      "PoseLandmark.RIGHT_EYE_OUTER\n",
      "PoseLandmark.LEFT_EAR\n",
      "PoseLandmark.RIGHT_EAR\n",
      "PoseLandmark.MOUTH_LEFT\n",
      "PoseLandmark.MOUTH_RIGHT\n",
      "PoseLandmark.LEFT_SHOULDER\n",
      "PoseLandmark.RIGHT_SHOULDER\n",
      "PoseLandmark.LEFT_ELBOW\n",
      "PoseLandmark.RIGHT_ELBOW\n",
      "PoseLandmark.LEFT_WRIST\n",
      "PoseLandmark.RIGHT_WRIST\n",
      "PoseLandmark.LEFT_PINKY\n",
      "PoseLandmark.RIGHT_PINKY\n",
      "PoseLandmark.LEFT_INDEX\n",
      "PoseLandmark.RIGHT_INDEX\n",
      "PoseLandmark.LEFT_THUMB\n",
      "PoseLandmark.RIGHT_THUMB\n",
      "PoseLandmark.LEFT_HIP\n",
      "PoseLandmark.RIGHT_HIP\n",
      "PoseLandmark.LEFT_KNEE\n",
      "PoseLandmark.RIGHT_KNEE\n",
      "PoseLandmark.LEFT_ANKLE\n",
      "PoseLandmark.RIGHT_ANKLE\n",
      "PoseLandmark.LEFT_HEEL\n",
      "PoseLandmark.RIGHT_HEEL\n",
      "PoseLandmark.LEFT_FOOT_INDEX\n",
      "PoseLandmark.RIGHT_FOOT_INDEX\n"
     ]
    }
   ],
   "source": [
    "for lndmrk in mp_pose.PoseLandmark:\n",
    "    print(lndmrk)"
   ]
  },
  {
   "cell_type": "code",
   "execution_count": null,
   "id": "3b9070fa",
   "metadata": {},
   "outputs": [],
   "source": []
  }
 ],
 "metadata": {
  "kernelspec": {
   "display_name": "Python [conda env:stick-man-trainer] *",
   "language": "python",
   "name": "conda-env-stick-man-trainer-py"
  },
  "language_info": {
   "codemirror_mode": {
    "name": "ipython",
    "version": 3
   },
   "file_extension": ".py",
   "mimetype": "text/x-python",
   "name": "python",
   "nbconvert_exporter": "python",
   "pygments_lexer": "ipython3",
   "version": "3.6.13"
  }
 },
 "nbformat": 4,
 "nbformat_minor": 5
}
